{
 "metadata": {
  "language_info": {
   "codemirror_mode": {
    "name": "ipython",
    "version": 3
   },
   "file_extension": ".py",
   "mimetype": "text/x-python",
   "name": "python",
   "nbconvert_exporter": "python",
   "pygments_lexer": "ipython3",
   "version": "3.9.4"
  },
  "orig_nbformat": 2,
  "kernelspec": {
   "name": "python394jvsc74a57bd0fa2e08814bc5a631dbcbfd5d8d5defe768a1831723dde9926f13410549d03966",
   "display_name": "Python 3.9.4 64-bit ('Python39')"
  },
  "metadata": {
   "interpreter": {
    "hash": "fa2e08814bc5a631dbcbfd5d8d5defe768a1831723dde9926f13410549d03966"
   }
  }
 },
 "nbformat": 4,
 "nbformat_minor": 2,
 "cells": [
  {
   "cell_type": "code",
   "execution_count": 63,
   "metadata": {},
   "outputs": [],
   "source": [
    "import matplotlib.pyplot as plt\n",
    "import numpy as np"
   ]
  },
  {
   "cell_type": "code",
   "execution_count": 64,
   "metadata": {},
   "outputs": [],
   "source": [
    "def metropolisGC(N,V,bmu,npassos,nequi): #metropolis para Grande Canonico\n",
    "    nmedidas = npassos-nequi\n",
    "    ni = np.zeros(V) #existe ou nao particula naquele sitio\n",
    "    part_sitio=np.zeros(V)\n",
    "    Nt=np.zeros(nmedidas)\n",
    "\n",
    "    # colocacao inicial das particulas na rede\n",
    "    n=0\n",
    "    while n<N:\n",
    "        isit = np.random.randint(V)\n",
    "        if ni[isit]==0:\n",
    "            ni[isit]=1\n",
    "            part_sitio[n]=isit\n",
    "            n+=1\n",
    "\n",
    "    for t in range(npassos):\n",
    "        for act in range(V):\n",
    "            if np.random.rand()<=0.5:\n",
    "                # adicionamos\n",
    "                # escolher sitio ao acaso\n",
    "                isit = np.random.randint(V)\n",
    "                if ni[isit]==0:\n",
    "                    pA = np.minimum(1,V/(N+1)*np.exp(bmu))\n",
    "                    if np.random.rand()<=pA:\n",
    "                        ni[isit]=1\n",
    "                        N+=1\n",
    "                        part_sitio[N]=isit\n",
    "            else:\n",
    "                # removemos\n",
    "                ip = np.random.randint(N) #escolher uma particula\n",
    "                pA = np.minimum(1,N/V*np.exp(-bmu))\n",
    "                if np.random.rand()<=pA:\n",
    "                    isit = int(part_sitio[ip])\n",
    "                    ni[isit] = 0\n",
    "                    part_sitio[ip]=part_sitio[N]\n",
    "                    N=N-1\n",
    "            # print(N)\n",
    "\n",
    "        if t>nequi:\n",
    "            Nt[t-nequi]=N\n",
    "                \n",
    "    return Nt"
   ]
  },
  {
   "cell_type": "code",
   "execution_count": 65,
   "metadata": {
    "tags": []
   },
   "outputs": [],
   "source": [
    "N=10\n",
    "L=10\n",
    "V=L*L\n",
    "bmu=1\n",
    "npassos=int(5e4)\n",
    "nequi=int(1e3)\n",
    "nmedidas = npassos-nequi\n",
    "\n",
    "Nt= metropolisGC(N,V,bmu,npassos,nequi)"
   ]
  },
  {
   "cell_type": "code",
   "execution_count": 67,
   "metadata": {},
   "outputs": [
    {
     "output_type": "stream",
     "name": "stdout",
     "text": [
      "beta: 1 , <N>=  72.37820408163266\n",
      "<ipython-input-67-26440e8ff4c7>:18: RuntimeWarning: divide by zero encountered in true_divide\n",
      "  phrot=np.exp(-V**2*(x-xm)**2/(2*sigmaN**2)*(V/np.sqrt(2*np.pi*sigmaN**2)))\n"
     ]
    },
    {
     "output_type": "display_data",
     "data": {
      "text/plain": "<Figure size 432x288 with 0 Axes>"
     },
     "metadata": {}
    }
   ],
   "source": [
    "Nmed=np.sum(Nt)/nmedidas\n",
    "print(\"beta:\",bmu,\", <N>= \",Nmed)\n",
    "\n",
    "\n",
    "rhot=Nt/V\n",
    "nbins=20\n",
    "rhomax=np.max(rhot)\n",
    "rhomin=np.min(rhot)\n",
    "drho=(rhomax-rhomin)/nbins\n",
    "bins=np.arange(rhomin+drho/2,rhomax-drho/2,drho)\n",
    "h,bins=np.histogram(rhot,bins=bins)\n",
    "h=h/sum(h)/drho\n",
    "\n",
    "plt.figure(1)\n",
    "x=np.arange(rhomin,rhomax,0.0001)\n",
    "xm=np.exp(bmu)/(np.exp(bmu)+1)\n",
    "sigmaN= np.sqrt(V*x*x)\n",
    "phrot=np.exp(-V**2*(x-xm)**2/(2*sigmaN**2)*(V/np.sqrt(2*np.pi*sigmaN**2)))\n",
    "\n",
    "\n"
   ]
  },
  {
   "cell_type": "code",
   "execution_count": null,
   "metadata": {},
   "outputs": [],
   "source": []
  }
 ]
}